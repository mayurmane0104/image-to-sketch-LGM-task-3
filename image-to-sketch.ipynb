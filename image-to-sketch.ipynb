{
 "cells": [
  {
   "cell_type": "code",
   "execution_count": 10,
   "id": "7d5992b7",
   "metadata": {},
   "outputs": [],
   "source": [
    "import numpy as np\n",
    "import scipy.ndimage\n",
    "import cv2"
   ]
  },
  {
   "cell_type": "code",
   "execution_count": 11,
   "id": "01ddc16c",
   "metadata": {},
   "outputs": [],
   "source": [
    "img=\"horse.jpg\""
   ]
  },
  {
   "cell_type": "code",
   "execution_count": 12,
   "id": "4766cfa7",
   "metadata": {},
   "outputs": [],
   "source": [
    "def grayscale(rgb):\n",
    "    return np.dot(rgb[...,:3],[0.299,0.587,0.114]) # this is the  formula convert an image to black and white\n"
   ]
  },
  {
   "cell_type": "code",
   "execution_count": 13,
   "id": "4790469d",
   "metadata": {},
   "outputs": [],
   "source": [
    "def dodge(front,back):\n",
    "    result=front*255/(255-back)\n",
    "    result[result>255]=255\n",
    "    result[result==255]=255\n",
    "    return result.astype(\"uint8\")\n"
   ]
  },
  {
   "cell_type": "code",
   "execution_count": 14,
   "id": "e34c38b6",
   "metadata": {},
   "outputs": [],
   "source": [
    "s=cv2.imread(img)\n",
    "g=grayscale(s)\n",
    "i=255-g\n"
   ]
  },
  {
   "cell_type": "code",
   "execution_count": 15,
   "id": "492f6983",
   "metadata": {},
   "outputs": [],
   "source": [
    "b=scipy.ndimage.gaussian_filter(i,sigma=20)\n",
    "r=dodge(b,g)\n"
   ]
  },
  {
   "cell_type": "code",
   "execution_count": 16,
   "id": "68876638",
   "metadata": {},
   "outputs": [
    {
     "data": {
      "text/plain": [
       "True"
      ]
     },
     "execution_count": 16,
     "metadata": {},
     "output_type": "execute_result"
    }
   ],
   "source": [
    "cv2.imwrite(\"natural.png\",r)"
   ]
  },
  {
   "cell_type": "code",
   "execution_count": null,
   "id": "e6723dcd",
   "metadata": {},
   "outputs": [],
   "source": []
  }
 ],
 "metadata": {
  "kernelspec": {
   "display_name": "Python 3 (ipykernel)",
   "language": "python",
   "name": "python3"
  },
  "language_info": {
   "codemirror_mode": {
    "name": "ipython",
    "version": 3
   },
   "file_extension": ".py",
   "mimetype": "text/x-python",
   "name": "python",
   "nbconvert_exporter": "python",
   "pygments_lexer": "ipython3",
   "version": "3.9.7"
  }
 },
 "nbformat": 4,
 "nbformat_minor": 5
}
